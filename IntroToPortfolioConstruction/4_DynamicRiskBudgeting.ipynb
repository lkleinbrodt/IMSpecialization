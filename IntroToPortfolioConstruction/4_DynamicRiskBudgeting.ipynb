{
 "cells": [
  {
   "cell_type": "code",
   "execution_count": 32,
   "metadata": {},
   "outputs": [
    {
     "name": "stdout",
     "output_type": "stream",
     "text": [
      "The autoreload extension is already loaded. To reload it, use:\n",
      "  %reload_ext autoreload\n"
     ]
    }
   ],
   "source": [
    "%load_ext autoreload\n",
    "%autoreload 2\n",
    "\n",
    "import numpy as np\n",
    "import pandas as pd\n",
    "import edhec_risk_kit as erk\n",
    "import matplotlib.pyplot as plt\n",
    "import seaborn as sns"
   ]
  },
  {
   "cell_type": "code",
   "execution_count": 12,
   "metadata": {},
   "outputs": [],
   "source": [
    "n_scenarios = 5000\n",
    "rates, zc_prices = erk.cir(10, n_scenarios=n_scenarios, b = .03, r_0=.03, sigma=.02)\n",
    "price_eq = erk.gbm(n_years=10, n_scenarios=n_scenarios, mu=.07, sigma = .15)\n"
   ]
  },
  {
   "cell_type": "code",
   "execution_count": 13,
   "metadata": {},
   "outputs": [
    {
     "data": {
      "text/html": [
       "<div>\n",
       "<style scoped>\n",
       "    .dataframe tbody tr th:only-of-type {\n",
       "        vertical-align: middle;\n",
       "    }\n",
       "\n",
       "    .dataframe tbody tr th {\n",
       "        vertical-align: top;\n",
       "    }\n",
       "\n",
       "    .dataframe thead th {\n",
       "        text-align: right;\n",
       "    }\n",
       "</style>\n",
       "<table border=\"1\" class=\"dataframe\">\n",
       "  <thead>\n",
       "    <tr style=\"text-align: right;\">\n",
       "      <th></th>\n",
       "      <th>ZC</th>\n",
       "      <th>Eq</th>\n",
       "      <th>70/30</th>\n",
       "    </tr>\n",
       "  </thead>\n",
       "  <tbody>\n",
       "    <tr>\n",
       "      <th>mean</th>\n",
       "      <td>1.34</td>\n",
       "      <td>1.98</td>\n",
       "      <td>1.76</td>\n",
       "    </tr>\n",
       "    <tr>\n",
       "      <th>std</th>\n",
       "      <td>0.00</td>\n",
       "      <td>0.99</td>\n",
       "      <td>0.60</td>\n",
       "    </tr>\n",
       "    <tr>\n",
       "      <th>p_breach</th>\n",
       "      <td>NaN</td>\n",
       "      <td>0.03</td>\n",
       "      <td>0.01</td>\n",
       "    </tr>\n",
       "    <tr>\n",
       "      <th>e_short</th>\n",
       "      <td>NaN</td>\n",
       "      <td>0.13</td>\n",
       "      <td>0.06</td>\n",
       "    </tr>\n",
       "    <tr>\n",
       "      <th>p_reach</th>\n",
       "      <td>NaN</td>\n",
       "      <td>NaN</td>\n",
       "      <td>NaN</td>\n",
       "    </tr>\n",
       "    <tr>\n",
       "      <th>e_surplus</th>\n",
       "      <td>NaN</td>\n",
       "      <td>NaN</td>\n",
       "      <td>NaN</td>\n",
       "    </tr>\n",
       "  </tbody>\n",
       "</table>\n",
       "</div>"
      ],
      "text/plain": [
       "             ZC    Eq  70/30\n",
       "mean       1.34  1.98   1.76\n",
       "std        0.00  0.99   0.60\n",
       "p_breach    NaN  0.03   0.01\n",
       "e_short     NaN  0.13   0.06\n",
       "p_reach     NaN   NaN    NaN\n",
       "e_surplus   NaN   NaN    NaN"
      ]
     },
     "execution_count": 13,
     "metadata": {},
     "output_type": "execute_result"
    }
   ],
   "source": [
    "rets_eq = price_eq.pct_change().dropna()\n",
    "rets_zc = zc_prices.pct_change().dropna()\n",
    "rets_7030b = erk.bt_mix(rets_eq, rets_zc, allocator=erk.fixedmix_allocator, w1=.7)\n",
    "\n",
    "pd.concat([erk.terminal_stats(rets_zc, name = 'ZC', floor=.75),\n",
    "          erk.terminal_stats(rets_eq, name = 'Eq', floor=.75),\n",
    "          erk.terminal_stats(rets_7030b, name = '70/30', floor=.75),], axis = 1).round(2)\n",
    "#we still sometimes have breaches. rn our allocator is blind to the floor"
   ]
  },
  {
   "cell_type": "code",
   "execution_count": 14,
   "metadata": {},
   "outputs": [],
   "source": [
    "def floor_allocator(psp_r, ghp_r, floor, zc_prices, m=3):\n",
    "    \"\"\"\n",
    "    Allocate between PSP and GHP with the goal to provide exposure to upside\n",
    "    without violating floor\n",
    "    Uses CPPI style risk budgeting to invest a multiple of cushion in PSP\n",
    "    Returns DF with same shape as psp/ghp representing weights in gsp\n",
    "    \"\"\"\n",
    "    \n",
    "    if zc_prices.shape != psp_r.shape:\n",
    "        raise ValueError('Psp and ZC prices must have same shape')\n",
    "    n_steps, n_scenarios = psp_r.shape\n",
    "    account_value = np.repeat(1, n_scenarios)\n",
    "    floor_value = np.repeat(1, n_scenarios)\n",
    "    w_history = pd.DataFrame(index = psp_r.index, columns=psp_r.columns)\n",
    "    for step in range(n_steps):\n",
    "        floor_value = floor * zc_prices.iloc[step] #PV of floor assuming today's rates and flat YC\n",
    "        cushion = (account_value - floor_value) / account_value\n",
    "        psp_w = (m*cushion).clip(0,1)\n",
    "        ghp_w = 1-psp_w\n",
    "        psp_alloc = account_value * psp_w\n",
    "        ghp_alloc = account_value * ghp_w\n",
    "        #Recompute account value at end of step\n",
    "        account_value = psp_alloc * (1+psp_r.iloc[step]) + ghp_alloc*(1+ghp_r.iloc[step])\n",
    "        w_history.iloc[step] = psp_w\n",
    "    return w_history"
   ]
  },
  {
   "cell_type": "code",
   "execution_count": 15,
   "metadata": {},
   "outputs": [
    {
     "data": {
      "text/html": [
       "<div>\n",
       "<style scoped>\n",
       "    .dataframe tbody tr th:only-of-type {\n",
       "        vertical-align: middle;\n",
       "    }\n",
       "\n",
       "    .dataframe tbody tr th {\n",
       "        vertical-align: top;\n",
       "    }\n",
       "\n",
       "    .dataframe thead th {\n",
       "        text-align: right;\n",
       "    }\n",
       "</style>\n",
       "<table border=\"1\" class=\"dataframe\">\n",
       "  <thead>\n",
       "    <tr style=\"text-align: right;\">\n",
       "      <th></th>\n",
       "      <th>ZC</th>\n",
       "      <th>Eq</th>\n",
       "      <th>70/30</th>\n",
       "      <th>Floor75</th>\n",
       "    </tr>\n",
       "  </thead>\n",
       "  <tbody>\n",
       "    <tr>\n",
       "      <th>mean</th>\n",
       "      <td>1.34</td>\n",
       "      <td>1.98</td>\n",
       "      <td>1.76</td>\n",
       "      <td>1.95</td>\n",
       "    </tr>\n",
       "    <tr>\n",
       "      <th>std</th>\n",
       "      <td>0.00</td>\n",
       "      <td>0.99</td>\n",
       "      <td>0.60</td>\n",
       "      <td>0.99</td>\n",
       "    </tr>\n",
       "    <tr>\n",
       "      <th>p_breach</th>\n",
       "      <td>NaN</td>\n",
       "      <td>0.03</td>\n",
       "      <td>0.01</td>\n",
       "      <td>NaN</td>\n",
       "    </tr>\n",
       "    <tr>\n",
       "      <th>e_short</th>\n",
       "      <td>NaN</td>\n",
       "      <td>0.13</td>\n",
       "      <td>0.06</td>\n",
       "      <td>NaN</td>\n",
       "    </tr>\n",
       "    <tr>\n",
       "      <th>p_reach</th>\n",
       "      <td>NaN</td>\n",
       "      <td>NaN</td>\n",
       "      <td>NaN</td>\n",
       "      <td>NaN</td>\n",
       "    </tr>\n",
       "    <tr>\n",
       "      <th>e_surplus</th>\n",
       "      <td>NaN</td>\n",
       "      <td>NaN</td>\n",
       "      <td>NaN</td>\n",
       "      <td>NaN</td>\n",
       "    </tr>\n",
       "  </tbody>\n",
       "</table>\n",
       "</div>"
      ],
      "text/plain": [
       "             ZC    Eq  70/30  Floor75\n",
       "mean       1.34  1.98   1.76     1.95\n",
       "std        0.00  0.99   0.60     0.99\n",
       "p_breach    NaN  0.03   0.01      NaN\n",
       "e_short     NaN  0.13   0.06      NaN\n",
       "p_reach     NaN   NaN    NaN      NaN\n",
       "e_surplus   NaN   NaN    NaN      NaN"
      ]
     },
     "execution_count": 15,
     "metadata": {},
     "output_type": "execute_result"
    }
   ],
   "source": [
    "rets_floor75 = erk.bt_mix(rets_eq, rets_zc, allocator=erk.floor_allocator, \n",
    "                          floor=.75, zc_prices = zc_prices[1:])\n",
    "\n",
    "pd.concat([erk.terminal_stats(rets_zc, name = 'ZC', floor=.75),\n",
    "          erk.terminal_stats(rets_eq, name = 'Eq', floor=.75),\n",
    "          erk.terminal_stats(rets_7030b, name = '70/30', floor=.75),\n",
    "          erk.terminal_stats(rets_floor75, name = 'Floor75', floor=.75)], axis = 1).round(2)"
   ]
  },
  {
   "cell_type": "code",
   "execution_count": 17,
   "metadata": {},
   "outputs": [
    {
     "data": {
      "text/html": [
       "<div>\n",
       "<style scoped>\n",
       "    .dataframe tbody tr th:only-of-type {\n",
       "        vertical-align: middle;\n",
       "    }\n",
       "\n",
       "    .dataframe tbody tr th {\n",
       "        vertical-align: top;\n",
       "    }\n",
       "\n",
       "    .dataframe thead th {\n",
       "        text-align: right;\n",
       "    }\n",
       "</style>\n",
       "<table border=\"1\" class=\"dataframe\">\n",
       "  <thead>\n",
       "    <tr style=\"text-align: right;\">\n",
       "      <th></th>\n",
       "      <th>ZC</th>\n",
       "      <th>Eq</th>\n",
       "      <th>70/30</th>\n",
       "      <th>Floor75</th>\n",
       "      <th>Floor75m1</th>\n",
       "      <th>Floor75m5</th>\n",
       "      <th>Floor75m10</th>\n",
       "    </tr>\n",
       "  </thead>\n",
       "  <tbody>\n",
       "    <tr>\n",
       "      <th>mean</th>\n",
       "      <td>1.343</td>\n",
       "      <td>1.978</td>\n",
       "      <td>1.762</td>\n",
       "      <td>1.954</td>\n",
       "      <td>1.625</td>\n",
       "      <td>1.964</td>\n",
       "      <td>1.966</td>\n",
       "    </tr>\n",
       "    <tr>\n",
       "      <th>std</th>\n",
       "      <td>0.000</td>\n",
       "      <td>0.986</td>\n",
       "      <td>0.599</td>\n",
       "      <td>0.993</td>\n",
       "      <td>0.435</td>\n",
       "      <td>0.994</td>\n",
       "      <td>0.995</td>\n",
       "    </tr>\n",
       "    <tr>\n",
       "      <th>p_breach</th>\n",
       "      <td>NaN</td>\n",
       "      <td>0.034</td>\n",
       "      <td>0.010</td>\n",
       "      <td>NaN</td>\n",
       "      <td>NaN</td>\n",
       "      <td>NaN</td>\n",
       "      <td>0.022</td>\n",
       "    </tr>\n",
       "    <tr>\n",
       "      <th>e_short</th>\n",
       "      <td>NaN</td>\n",
       "      <td>0.131</td>\n",
       "      <td>0.065</td>\n",
       "      <td>NaN</td>\n",
       "      <td>NaN</td>\n",
       "      <td>NaN</td>\n",
       "      <td>0.005</td>\n",
       "    </tr>\n",
       "    <tr>\n",
       "      <th>p_reach</th>\n",
       "      <td>NaN</td>\n",
       "      <td>NaN</td>\n",
       "      <td>NaN</td>\n",
       "      <td>NaN</td>\n",
       "      <td>NaN</td>\n",
       "      <td>NaN</td>\n",
       "      <td>NaN</td>\n",
       "    </tr>\n",
       "    <tr>\n",
       "      <th>e_surplus</th>\n",
       "      <td>NaN</td>\n",
       "      <td>NaN</td>\n",
       "      <td>NaN</td>\n",
       "      <td>NaN</td>\n",
       "      <td>NaN</td>\n",
       "      <td>NaN</td>\n",
       "      <td>NaN</td>\n",
       "    </tr>\n",
       "  </tbody>\n",
       "</table>\n",
       "</div>"
      ],
      "text/plain": [
       "              ZC     Eq  70/30  Floor75  Floor75m1  Floor75m5  Floor75m10\n",
       "mean       1.343  1.978  1.762    1.954      1.625      1.964       1.966\n",
       "std        0.000  0.986  0.599    0.993      0.435      0.994       0.995\n",
       "p_breach     NaN  0.034  0.010      NaN        NaN        NaN       0.022\n",
       "e_short      NaN  0.131  0.065      NaN        NaN        NaN       0.005\n",
       "p_reach      NaN    NaN    NaN      NaN        NaN        NaN         NaN\n",
       "e_surplus    NaN    NaN    NaN      NaN        NaN        NaN         NaN"
      ]
     },
     "execution_count": 17,
     "metadata": {},
     "output_type": "execute_result"
    }
   ],
   "source": [
    "rets_floor75m1 = erk.bt_mix(rets_eq, rets_zc, allocator=erk.floor_allocator, \n",
    "                          floor=.75, zc_prices = zc_prices[1:], m = 1)\n",
    "rets_floor75m5 = erk.bt_mix(rets_eq, rets_zc, allocator=erk.floor_allocator, \n",
    "                          floor=.75, zc_prices = zc_prices[1:], m = 5)\n",
    "rets_floor75m10 = erk.bt_mix(rets_eq, rets_zc, allocator=erk.floor_allocator, \n",
    "                          floor=.75, zc_prices = zc_prices[1:], m = 10)\n",
    "\n",
    "pd.concat([erk.terminal_stats(rets_zc, name = 'ZC', floor=.75),\n",
    "          erk.terminal_stats(rets_eq, name = 'Eq', floor=.75),\n",
    "          erk.terminal_stats(rets_7030b, name = '70/30', floor=.75),\n",
    "          erk.terminal_stats(rets_floor75, name = 'Floor75', floor=.75),\n",
    "          erk.terminal_stats(rets_floor75m1, name = 'Floor75m1', floor=.75),\n",
    "          erk.terminal_stats(rets_floor75m5, name = 'Floor75m5', floor=.75),\n",
    "           erk.terminal_stats(rets_floor75m10, name = 'Floor75m10', floor=.75)], axis = 1).round(3)\n",
    "#STILL no violations"
   ]
  },
  {
   "cell_type": "markdown",
   "metadata": {},
   "source": [
    "# Budgeting with Drawdown Constraints"
   ]
  },
  {
   "cell_type": "code",
   "execution_count": 20,
   "metadata": {},
   "outputs": [],
   "source": [
    "cashrate = .02\n",
    "monthly_cashreturn = (1+cashrate)**(1/12) - 1\n",
    "rets_cash = pd.DataFrame(data = monthly_cashreturn, index = rets_eq.index, columns = rets_eq.columns)\n",
    "rets_maxdd25 = erk.bt_mix(rets_eq, rets_cash, allocator=erk.drawdown_allocator, maxdd=.25)"
   ]
  },
  {
   "cell_type": "code",
   "execution_count": 25,
   "metadata": {},
   "outputs": [
    {
     "data": {
      "text/html": [
       "<div>\n",
       "<style scoped>\n",
       "    .dataframe tbody tr th:only-of-type {\n",
       "        vertical-align: middle;\n",
       "    }\n",
       "\n",
       "    .dataframe tbody tr th {\n",
       "        vertical-align: top;\n",
       "    }\n",
       "\n",
       "    .dataframe thead th {\n",
       "        text-align: right;\n",
       "    }\n",
       "</style>\n",
       "<table border=\"1\" class=\"dataframe\">\n",
       "  <thead>\n",
       "    <tr style=\"text-align: right;\">\n",
       "      <th></th>\n",
       "      <th>ZC</th>\n",
       "      <th>Eq</th>\n",
       "      <th>70/30</th>\n",
       "      <th>Floor75</th>\n",
       "      <th>Floor75m1</th>\n",
       "      <th>Floor75m5</th>\n",
       "      <th>Floor75m10</th>\n",
       "      <th>MaxDD25</th>\n",
       "    </tr>\n",
       "  </thead>\n",
       "  <tbody>\n",
       "    <tr>\n",
       "      <th>mean</th>\n",
       "      <td>1.34</td>\n",
       "      <td>1.98</td>\n",
       "      <td>1.76</td>\n",
       "      <td>1.95</td>\n",
       "      <td>1.63</td>\n",
       "      <td>1.96</td>\n",
       "      <td>1.97</td>\n",
       "      <td>1.63</td>\n",
       "    </tr>\n",
       "    <tr>\n",
       "      <th>std</th>\n",
       "      <td>0.00</td>\n",
       "      <td>0.99</td>\n",
       "      <td>0.60</td>\n",
       "      <td>0.99</td>\n",
       "      <td>0.44</td>\n",
       "      <td>0.99</td>\n",
       "      <td>0.99</td>\n",
       "      <td>0.54</td>\n",
       "    </tr>\n",
       "    <tr>\n",
       "      <th>p_breach</th>\n",
       "      <td>NaN</td>\n",
       "      <td>0.03</td>\n",
       "      <td>0.01</td>\n",
       "      <td>NaN</td>\n",
       "      <td>NaN</td>\n",
       "      <td>NaN</td>\n",
       "      <td>0.02</td>\n",
       "      <td>NaN</td>\n",
       "    </tr>\n",
       "    <tr>\n",
       "      <th>e_short</th>\n",
       "      <td>NaN</td>\n",
       "      <td>0.13</td>\n",
       "      <td>0.06</td>\n",
       "      <td>NaN</td>\n",
       "      <td>NaN</td>\n",
       "      <td>NaN</td>\n",
       "      <td>0.00</td>\n",
       "      <td>NaN</td>\n",
       "    </tr>\n",
       "    <tr>\n",
       "      <th>p_reach</th>\n",
       "      <td>NaN</td>\n",
       "      <td>NaN</td>\n",
       "      <td>NaN</td>\n",
       "      <td>NaN</td>\n",
       "      <td>NaN</td>\n",
       "      <td>NaN</td>\n",
       "      <td>NaN</td>\n",
       "      <td>NaN</td>\n",
       "    </tr>\n",
       "    <tr>\n",
       "      <th>e_surplus</th>\n",
       "      <td>NaN</td>\n",
       "      <td>NaN</td>\n",
       "      <td>NaN</td>\n",
       "      <td>NaN</td>\n",
       "      <td>NaN</td>\n",
       "      <td>NaN</td>\n",
       "      <td>NaN</td>\n",
       "      <td>NaN</td>\n",
       "    </tr>\n",
       "  </tbody>\n",
       "</table>\n",
       "</div>"
      ],
      "text/plain": [
       "             ZC    Eq  70/30  Floor75  Floor75m1  Floor75m5  Floor75m10  \\\n",
       "mean       1.34  1.98   1.76     1.95       1.63       1.96        1.97   \n",
       "std        0.00  0.99   0.60     0.99       0.44       0.99        0.99   \n",
       "p_breach    NaN  0.03   0.01      NaN        NaN        NaN        0.02   \n",
       "e_short     NaN  0.13   0.06      NaN        NaN        NaN        0.00   \n",
       "p_reach     NaN   NaN    NaN      NaN        NaN        NaN         NaN   \n",
       "e_surplus   NaN   NaN    NaN      NaN        NaN        NaN         NaN   \n",
       "\n",
       "           MaxDD25  \n",
       "mean          1.63  \n",
       "std           0.54  \n",
       "p_breach       NaN  \n",
       "e_short        NaN  \n",
       "p_reach        NaN  \n",
       "e_surplus      NaN  "
      ]
     },
     "execution_count": 25,
     "metadata": {},
     "output_type": "execute_result"
    }
   ],
   "source": [
    "cashrate = 0.02\n",
    "monthly_cashreturn = (1+cashrate)**(1/12) - 1\n",
    "rets_cash = pd.DataFrame(data= monthly_cashreturn, index=rets_eq.index, columns=rets_eq.columns)\n",
    "rets_maxdd25 = erk.bt_mix(rets_eq, rets_cash, allocator=erk.drawdown_allocator, maxdd=.25)\n",
    "tv_maxdd25 = erk.terminal_values(rets_maxdd25)\n",
    "pd.concat([erk.terminal_stats(rets_zc, name=\"ZC\", floor=0.75), \n",
    "           erk.terminal_stats(rets_eq, name=\"Eq\", floor=0.75),\n",
    "           erk.terminal_stats(rets_7030b, name=\"70/30\", floor=0.75),\n",
    "           erk.terminal_stats(rets_floor75, name=\"Floor75\", floor=0.75),\n",
    "           erk.terminal_stats(rets_floor75m1, name=\"Floor75m1\", floor=0.75),\n",
    "           erk.terminal_stats(rets_floor75m5, name=\"Floor75m5\", floor=0.75),\n",
    "           erk.terminal_stats(rets_floor75m10, name=\"Floor75m10\", floor=0.75),\n",
    "           erk.terminal_stats(rets_maxdd25, name=\"MaxDD25\", floor=0.75)           \n",
    "          ],\n",
    "          axis=1).round(2)"
   ]
  },
  {
   "cell_type": "code",
   "execution_count": 22,
   "metadata": {},
   "outputs": [
    {
     "data": {
      "text/plain": [
       "0   -0.205195\n",
       "1   -0.184057\n",
       "2   -0.190507\n",
       "3   -0.167236\n",
       "4   -0.179914\n",
       "Name: Max Drawdown, dtype: float64"
      ]
     },
     "execution_count": 22,
     "metadata": {},
     "output_type": "execute_result"
    }
   ],
   "source": [
    "erk.summary_stats(rets_maxdd25)['Max Drawdown'].head()"
   ]
  },
  {
   "cell_type": "code",
   "execution_count": 23,
   "metadata": {},
   "outputs": [
    {
     "data": {
      "text/plain": [
       "-0.23272348497573914"
      ]
     },
     "execution_count": 23,
     "metadata": {},
     "output_type": "execute_result"
    }
   ],
   "source": [
    "erk.summary_stats(rets_maxdd25)['Max Drawdown'].min()"
   ]
  },
  {
   "cell_type": "code",
   "execution_count": 26,
   "metadata": {},
   "outputs": [
    {
     "name": "stderr",
     "output_type": "stream",
     "text": [
      "/opt/anaconda3/envs/IMSpecialization/lib/python3.8/site-packages/seaborn/distributions.py:2551: FutureWarning: `distplot` is a deprecated function and will be removed in a future version. Please adapt your code to use either `displot` (a figure-level function with similar flexibility) or `histplot` (an axes-level function for histograms).\n",
      "  warnings.warn(msg, FutureWarning)\n",
      "/opt/anaconda3/envs/IMSpecialization/lib/python3.8/site-packages/seaborn/distributions.py:2551: FutureWarning: `distplot` is a deprecated function and will be removed in a future version. Please adapt your code to use either `displot` (a figure-level function with similar flexibility) or `histplot` (an axes-level function for histograms).\n",
      "  warnings.warn(msg, FutureWarning)\n",
      "/opt/anaconda3/envs/IMSpecialization/lib/python3.8/site-packages/seaborn/distributions.py:2551: FutureWarning: `distplot` is a deprecated function and will be removed in a future version. Please adapt your code to use either `displot` (a figure-level function with similar flexibility) or `histplot` (an axes-level function for histograms).\n",
      "  warnings.warn(msg, FutureWarning)\n",
      "/opt/anaconda3/envs/IMSpecialization/lib/python3.8/site-packages/seaborn/distributions.py:2551: FutureWarning: `distplot` is a deprecated function and will be removed in a future version. Please adapt your code to use either `displot` (a figure-level function with similar flexibility) or `histplot` (an axes-level function for histograms).\n",
      "  warnings.warn(msg, FutureWarning)\n"
     ]
    },
    {
     "data": {
      "image/png": "[encoded data removed]",
      "text/plain": [
       "<Figure size 864x432 with 1 Axes>"
      ]
     },
     "metadata": {
      "needs_background": "light"
     },
     "output_type": "display_data"
    }
   ],
   "source": [
    "tv_eq = erk.terminal_values(rets_eq)\n",
    "tv_zc = erk.terminal_values(rets_zc)\n",
    "tv_7030b = erk.terminal_values(rets_7030b)\n",
    "tv_floor75 = erk.terminal_values(rets_floor75)\n",
    "tv_floor75m1 = erk.terminal_values(rets_floor75m1)\n",
    "import seaborn as sns\n",
    "import matplotlib.pyplot as plt\n",
    "# Plot\n",
    "plt.figure(figsize=(12, 6))\n",
    "sns.distplot(tv_eq, color=\"red\", label=\"100% Equities\", bins=100)\n",
    "plt.axvline(tv_eq.mean(), ls=\"--\", color=\"red\")\n",
    "#sns.distplot(tv_zc, color=\"blue\", label=\"100% Immunized Bonds\")\n",
    "#plt.axvline(tv_zc.mean(), ls=\"--\", color=\"blue\")\n",
    "sns.distplot(tv_7030b, color=\"orange\", label=\"70/30 Equities/Bonds\", bins=100)\n",
    "plt.axvline(tv_7030b.mean(), ls=\"--\", color=\"orange\")\n",
    "sns.distplot(tv_floor75, color=\"green\", label=\"Floor at 75%\", bins=100)\n",
    "plt.axvline(tv_floor75.mean(), ls=\"--\", color=\"green\")\n",
    "sns.distplot(tv_maxdd25, color=\"yellow\", label=\"MaxDD = 25%\", bins=100)\n",
    "plt.axvline(tv_maxdd25.mean(), ls=\"--\", color=\"yellow\")\n",
    "plt.legend();"
   ]
  },
  {
   "cell_type": "code",
   "execution_count": 27,
   "metadata": {},
   "outputs": [],
   "source": [
    "# Drawdown with Historical Data"
   ]
  },
  {
   "cell_type": "code",
   "execution_count": 35,
   "metadata": {},
   "outputs": [
    {
     "data": {
      "text/plain": [
       "<AxesSubplot:>"
      ]
     },
     "execution_count": 35,
     "metadata": {},
     "output_type": "execute_result"
    },
    {
     "data": {
      "image/png": "[encoded data removed]",
      "text/plain": [
       "<Figure size 864x432 with 1 Axes>"
      ]
     },
     "metadata": {
      "needs_background": "light"
     },
     "output_type": "display_data"
    }
   ],
   "source": [
    "rets_tmi =  erk.get_total_market_index_returns()[\"1990\":]\n",
    "dd_tmi = erk.drawdown(rets_tmi)\n",
    "ax = dd_tmi[\"Wealth\"].plot(figsize=(12,6), ls=\"-\", color=\"goldenrod\")\n",
    "dd_tmi[\"Previous Peak\"].plot(ax=ax, ls=\":\", color=\"goldenrod\")"
   ]
  },
  {
   "cell_type": "code",
   "execution_count": 37,
   "metadata": {},
   "outputs": [
    {
     "data": {
      "text/plain": [
       "<AxesSubplot:>"
      ]
     },
     "execution_count": 37,
     "metadata": {},
     "output_type": "execute_result"
    },
    {
     "data": {
      "image/png": "[encoded data removed]",
      "text/plain": [
       "<Figure size 864x432 with 1 Axes>"
      ]
     },
     "metadata": {
      "needs_background": "light"
     },
     "output_type": "display_data"
    }
   ],
   "source": [
    "cashrate = 0.03\n",
    "monthly_cashreturn = (1+cashrate)**(1/12) - 1\n",
    "rets_cash = pd.DataFrame(data= monthly_cashreturn, index=rets_tmi.index, columns=[0]) # 1 column dataframe\n",
    "rets_maxdd25 = erk.bt_mix(pd.DataFrame(rets_tmi), rets_cash, allocator=erk.drawdown_allocator, maxdd=.25, m=5)\n",
    "\n",
    "dd_25 = erk.drawdown(rets_maxdd25[0])\n",
    "\n",
    "ax = dd_tmi[\"Wealth\"].plot(figsize=(12,6), ls=\"-\", color=\"goldenrod\", label=\"Market\", legend=True)\n",
    "dd_tmi[\"Previous Peak\"].plot(ax=ax, ls=\":\", color=\"goldenrod\", legend = True)\n",
    "dd_25[\"Wealth\"].plot(ax=ax, label=\"MaxDD 25%\", color=\"cornflowerblue\", legend=True)\n",
    "dd_25[\"Previous Peak\"].plot(ax=ax, color=\"cornflowerblue\", ls=\":\", legend = True)"
   ]
  },
  {
   "cell_type": "code",
   "execution_count": null,
   "metadata": {},
   "outputs": [],
   "source": []
  }
 ],
 "metadata": {
  "kernelspec": {
   "display_name": "IMSpecialization",
   "language": "python",
   "name": "imspecialization"
  },
  "language_info": {
   "codemirror_mode": {
    "name": "ipython",
    "version": 3
   },
   "file_extension": ".py",
   "mimetype": "text/x-python",
   "name": "python",
   "nbconvert_exporter": "python",
   "pygments_lexer": "ipython3",
   "version": "3.8.5"
  }
 },
 "nbformat": 4,
 "nbformat_minor": 4
}
