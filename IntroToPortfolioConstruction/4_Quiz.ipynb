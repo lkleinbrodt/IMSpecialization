{
 "cells": [
  {
   "cell_type": "code",
   "execution_count": 26,
   "metadata": {},
   "outputs": [],
   "source": [
    "%load_ext autoreload\n",
    "%autoreload 2\n",
    "import edhec_risk_kit as erk\n",
    "import pandas as pd"
   ]
  },
  {
   "cell_type": "code",
   "execution_count": 5,
   "metadata": {},
   "outputs": [
    {
     "name": "stdout",
     "output_type": "stream",
     "text": [
      "B1 0    1000.0\n",
      "dtype: float64\n",
      "B2 0    1043.99829\n",
      "dtype: float64\n",
      "B3 0    613.913254\n",
      "dtype: float64\n"
     ]
    }
   ],
   "source": [
    "print('B1',erk.bond_price(15, 1000, .05, 2, .05))\n",
    "print('B2',erk.bond_price(5, 1000, .06, 4, .05))\n",
    "print('B3',erk.bond_price(10, 1000, 0, 1, .05))"
   ]
  },
  {
   "cell_type": "code",
   "execution_count": 37,
   "metadata": {},
   "outputs": [
    {
     "name": "stdout",
     "output_type": "stream",
     "text": [
      "B1:  10.72677495379012\n",
      "B2:  4.373363222636413\n",
      "B3:  10.0\n"
     ]
    }
   ],
   "source": [
    "flows1 = erk.bond_cash_flows(15, 1000, .05, 2)\n",
    "flows2 = erk.bond_cash_flows(5, 1000, .06, 4)\n",
    "flows3 = erk.bond_cash_flows(10, 1000, 0, 1)\n",
    "\n",
    "print('B1: ', erk.macaulay_duration(flows1, .05 / 2) / 2)\n",
    "print('B2: ', erk.macaulay_duration(flows2, .05 / 4) / 4)\n",
    "print('B3: ', erk.macaulay_duration(flows3, .05))"
   ]
  },
  {
   "cell_type": "code",
   "execution_count": null,
   "metadata": {},
   "outputs": [],
   "source": []
  },
  {
   "cell_type": "code",
   "execution_count": null,
   "metadata": {},
   "outputs": [],
   "source": []
  },
  {
   "cell_type": "code",
   "execution_count": 46,
   "metadata": {},
   "outputs": [],
   "source": [
    "liabilities = pd.Series(data = [100_000, 200_000, 300000], index = [3, 5, 10])"
   ]
  },
  {
   "cell_type": "code",
   "execution_count": 47,
   "metadata": {},
   "outputs": [
    {
     "data": {
      "text/plain": [
       "6.750917852744651"
      ]
     },
     "execution_count": 47,
     "metadata": {},
     "output_type": "execute_result"
    }
   ],
   "source": [
    "erk.macaulay_duration(liabilities, discount_rate = .05)"
   ]
  },
  {
   "cell_type": "code",
   "execution_count": 48,
   "metadata": {},
   "outputs": [
    {
     "data": {
      "text/plain": [
       "0.6257830075060314"
      ]
     },
     "execution_count": 48,
     "metadata": {},
     "output_type": "execute_result"
    }
   ],
   "source": [
    "discount_rate = .05\n",
    "d_t = erk.macaulay_duration(liabilities, discount_rate)\n",
    "d_s = erk.macaulay_duration(flows1, discount_rate / 2) / 2\n",
    "d_l = erk.macaulay_duration(flows2, discount_rate / 4) / 4\n",
    "1-(d_l - d_t)/(d_l - d_s)"
   ]
  },
  {
   "cell_type": "code",
   "execution_count": 49,
   "metadata": {},
   "outputs": [
    {
     "data": {
      "text/plain": [
       "0.5774465770256698"
      ]
     },
     "execution_count": 49,
     "metadata": {},
     "output_type": "execute_result"
    }
   ],
   "source": [
    "discount_rate = .05\n",
    "d_t = erk.macaulay_duration(liabilities, discount_rate)\n",
    "d_s = erk.macaulay_duration(flows3, discount_rate)\n",
    "d_l = erk.macaulay_duration(flows2, discount_rate / 4) / 4\n",
    "1-((d_l - d_t)/(d_l - d_s))"
   ]
  },
  {
   "cell_type": "code",
   "execution_count": null,
   "metadata": {},
   "outputs": [],
   "source": []
  }
 ],
 "metadata": {
  "kernelspec": {
   "display_name": "IMSpecialization",
   "language": "python",
   "name": "imspecialization"
  },
  "language_info": {
   "codemirror_mode": {
    "name": "ipython",
    "version": 3
   },
   "file_extension": ".py",
   "mimetype": "text/x-python",
   "name": "python",
   "nbconvert_exporter": "python",
   "pygments_lexer": "ipython3",
   "version": "3.8.5"
  }
 },
 "nbformat": 4,
 "nbformat_minor": 4
}
