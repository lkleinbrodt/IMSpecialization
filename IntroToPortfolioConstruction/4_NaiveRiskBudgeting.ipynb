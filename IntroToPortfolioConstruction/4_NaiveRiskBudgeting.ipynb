{
 "cells": [
  {
   "cell_type": "code",
   "execution_count": 1,
   "metadata": {},
   "outputs": [],
   "source": [
    "%load_ext autoreload\n",
    "%autoreload 2\n",
    "import numpy as np\n",
    "import pandas as pd\n",
    "import edhec_risk_kit as erk\n"
   ]
  },
  {
   "cell_type": "code",
   "execution_count": 2,
   "metadata": {},
   "outputs": [],
   "source": [
    "def bt_mix(r1, r2, allocator, **kwargs):\n",
    "    \"\"\"\n",
    "    Runs a backtest of allocatin between two sets of returns\n",
    "    r1 and r2 are T x N dataframes or returns where T is the time step index and N is the number of scenarios\n",
    "    allocator is a function that takes returns and parameters, and produces an allocation as a Tx1 dataframe\n",
    "    Returns T x N DF of resulting scenarios\n",
    "    \"\"\"\n",
    "    \n",
    "    if not r1.shape == r2.shape:\n",
    "        raise ValueError('r1 and r2 need to be the same shape')\n",
    "    weights = allocator(r1, r2, **kwargs)\n",
    "    if not weights.shape == r1.shape:\n",
    "        raise ValueError('Allocator returned weights that dont match r1')\n",
    "    r_mix = weights * r1 + (1-weights) * r2\n",
    "    return r_mix"
   ]
  },
  {
   "cell_type": "code",
   "execution_count": 3,
   "metadata": {},
   "outputs": [],
   "source": [
    "def fixedmix_allocator(r1, r2, w1, **kwargs):\n",
    "    \"\"\"\n",
    "    Produces a time series over T steps of allocations between PSP and GHP across N scenarios\n",
    "    PSP and GHP are TxN df of returns, each column is a scenario\n",
    "    Returns a TXN dataframe of PSP weights\n",
    "    \"\"\"\n",
    "    return pd.DataFrame(data=w1, index = r1.index, columns=r1.columns)"
   ]
  },
  {
   "cell_type": "code",
   "execution_count": 4,
   "metadata": {},
   "outputs": [
    {
     "data": {
      "text/html": [
       "<div>\n",
       "<style scoped>\n",
       "    .dataframe tbody tr th:only-of-type {\n",
       "        vertical-align: middle;\n",
       "    }\n",
       "\n",
       "    .dataframe tbody tr th {\n",
       "        vertical-align: top;\n",
       "    }\n",
       "\n",
       "    .dataframe thead th {\n",
       "        text-align: right;\n",
       "    }\n",
       "</style>\n",
       "<table border=\"1\" class=\"dataframe\">\n",
       "  <thead>\n",
       "    <tr style=\"text-align: right;\">\n",
       "      <th></th>\n",
       "      <th>Annualized Return</th>\n",
       "      <th>Annualized Vol</th>\n",
       "      <th>Skewness</th>\n",
       "      <th>Kurtosis</th>\n",
       "      <th>Cornish-Fisher VaR (5%)</th>\n",
       "      <th>Historic CVaR (5%)</th>\n",
       "      <th>Sharpe Ratio</th>\n",
       "      <th>Max Drawdown</th>\n",
       "    </tr>\n",
       "  </thead>\n",
       "  <tbody>\n",
       "    <tr>\n",
       "      <th>0</th>\n",
       "      <td>0.036048</td>\n",
       "      <td>0.003402</td>\n",
       "      <td>-0.332262</td>\n",
       "      <td>3.26318</td>\n",
       "      <td>-0.001262</td>\n",
       "      <td>-0.000666</td>\n",
       "      <td>1.730295</td>\n",
       "      <td>0.0</td>\n",
       "    </tr>\n",
       "  </tbody>\n",
       "</table>\n",
       "</div>"
      ],
      "text/plain": [
       "   Annualized Return  Annualized Vol  Skewness  Kurtosis  \\\n",
       "0           0.036048        0.003402 -0.332262   3.26318   \n",
       "\n",
       "   Cornish-Fisher VaR (5%)  Historic CVaR (5%)  Sharpe Ratio  Max Drawdown  \n",
       "0                -0.001262           -0.000666      1.730295           0.0  "
      ]
     },
     "execution_count": 4,
     "metadata": {},
     "output_type": "execute_result"
    }
   ],
   "source": [
    "rates, zc_prices = erk.cir(10, 500, b=.03, r_0=.03)\n",
    "price_10 = erk.bond_price(10, 100, .05, 12, rates)\n",
    "price_30 = erk.bond_price(30, 100, .05, 12, rates)\n",
    "rets_30 = erk.bond_total_return(price_30, 100, .05, 12)\n",
    "rets_10 = erk.bond_total_return(price_10, 100, .05, 12)\n",
    "rets_bonds = erk.bt_mix(rets_10, rets_30, allocator = erk.fixedmix_allocator, w1 = .6)\n",
    "mean_rets_bonds = rets_bonds.mean(axis = 'columns')\n",
    "erk.summary_stats(pd.DataFrame(mean_rets_bonds))"
   ]
  },
  {
   "cell_type": "code",
   "execution_count": 5,
   "metadata": {},
   "outputs": [],
   "source": [
    "price_eq = erk.gbm(n_years=10, n_scenarios=500, mu=.07, sigma=.15)\n",
    "rets_eq = price_eq.pct_change().dropna()\n",
    "rets_zc = zc_prices.pct_change().dropna()"
   ]
  },
  {
   "cell_type": "code",
   "execution_count": 6,
   "metadata": {},
   "outputs": [
    {
     "data": {
      "text/html": [
       "<div>\n",
       "<style scoped>\n",
       "    .dataframe tbody tr th:only-of-type {\n",
       "        vertical-align: middle;\n",
       "    }\n",
       "\n",
       "    .dataframe tbody tr th {\n",
       "        vertical-align: top;\n",
       "    }\n",
       "\n",
       "    .dataframe thead th {\n",
       "        text-align: right;\n",
       "    }\n",
       "</style>\n",
       "<table border=\"1\" class=\"dataframe\">\n",
       "  <thead>\n",
       "    <tr style=\"text-align: right;\">\n",
       "      <th></th>\n",
       "      <th>Annualized Return</th>\n",
       "      <th>Annualized Vol</th>\n",
       "      <th>Skewness</th>\n",
       "      <th>Kurtosis</th>\n",
       "      <th>Cornish-Fisher VaR (5%)</th>\n",
       "      <th>Historic CVaR (5%)</th>\n",
       "      <th>Sharpe Ratio</th>\n",
       "      <th>Max Drawdown</th>\n",
       "    </tr>\n",
       "  </thead>\n",
       "  <tbody>\n",
       "    <tr>\n",
       "      <th>0</th>\n",
       "      <td>0.059518</td>\n",
       "      <td>0.00462</td>\n",
       "      <td>-0.060297</td>\n",
       "      <td>2.718735</td>\n",
       "      <td>-0.002616</td>\n",
       "      <td>-0.002088</td>\n",
       "      <td>6.218809</td>\n",
       "      <td>0.0</td>\n",
       "    </tr>\n",
       "  </tbody>\n",
       "</table>\n",
       "</div>"
      ],
      "text/plain": [
       "   Annualized Return  Annualized Vol  Skewness  Kurtosis  \\\n",
       "0           0.059518         0.00462 -0.060297  2.718735   \n",
       "\n",
       "   Cornish-Fisher VaR (5%)  Historic CVaR (5%)  Sharpe Ratio  Max Drawdown  \n",
       "0                -0.002616           -0.002088      6.218809           0.0  "
      ]
     },
     "execution_count": 6,
     "metadata": {},
     "output_type": "execute_result"
    }
   ],
   "source": [
    "rets_7030b = erk.bt_mix(rets_eq, rets_bonds, allocator=erk.fixedmix_allocator, w1 = .7)\n",
    "rets_7030b_mean = rets_7030b.mean(axis = 1)\n",
    "erk.summary_stats(pd.DataFrame(rets_7030b_mean))"
   ]
  },
  {
   "cell_type": "code",
   "execution_count": 7,
   "metadata": {},
   "outputs": [
    {
     "data": {
      "text/html": [
       "<div>\n",
       "<style scoped>\n",
       "    .dataframe tbody tr th:only-of-type {\n",
       "        vertical-align: middle;\n",
       "    }\n",
       "\n",
       "    .dataframe tbody tr th {\n",
       "        vertical-align: top;\n",
       "    }\n",
       "\n",
       "    .dataframe thead th {\n",
       "        text-align: right;\n",
       "    }\n",
       "</style>\n",
       "<table border=\"1\" class=\"dataframe\">\n",
       "  <thead>\n",
       "    <tr style=\"text-align: right;\">\n",
       "      <th></th>\n",
       "      <th>FI</th>\n",
       "      <th>EQ</th>\n",
       "      <th>70/30</th>\n",
       "    </tr>\n",
       "  </thead>\n",
       "  <tbody>\n",
       "    <tr>\n",
       "      <th>mean</th>\n",
       "      <td>1.385976</td>\n",
       "      <td>1.965424</td>\n",
       "      <td>1.780055</td>\n",
       "    </tr>\n",
       "    <tr>\n",
       "      <th>std</th>\n",
       "      <td>0.108114</td>\n",
       "      <td>0.992514</td>\n",
       "      <td>0.617410</td>\n",
       "    </tr>\n",
       "    <tr>\n",
       "      <th>p_breach</th>\n",
       "      <td>NaN</td>\n",
       "      <td>0.036000</td>\n",
       "      <td>0.016000</td>\n",
       "    </tr>\n",
       "    <tr>\n",
       "      <th>e_short</th>\n",
       "      <td>NaN</td>\n",
       "      <td>0.170497</td>\n",
       "      <td>0.073954</td>\n",
       "    </tr>\n",
       "    <tr>\n",
       "      <th>p_reach</th>\n",
       "      <td>NaN</td>\n",
       "      <td>NaN</td>\n",
       "      <td>NaN</td>\n",
       "    </tr>\n",
       "    <tr>\n",
       "      <th>e_surplus</th>\n",
       "      <td>NaN</td>\n",
       "      <td>NaN</td>\n",
       "      <td>NaN</td>\n",
       "    </tr>\n",
       "  </tbody>\n",
       "</table>\n",
       "</div>"
      ],
      "text/plain": [
       "                 FI        EQ     70/30\n",
       "mean       1.385976  1.965424  1.780055\n",
       "std        0.108114  0.992514  0.617410\n",
       "p_breach        NaN  0.036000  0.016000\n",
       "e_short         NaN  0.170497  0.073954\n",
       "p_reach         NaN       NaN       NaN\n",
       "e_surplus       NaN       NaN       NaN"
      ]
     },
     "execution_count": 7,
     "metadata": {},
     "output_type": "execute_result"
    }
   ],
   "source": [
    "pd.concat([\n",
    "    erk.terminal_stats(rets_bonds, name = 'FI'),\n",
    "    erk.terminal_stats(rets_eq, name = 'EQ'),\n",
    "    erk.terminal_stats(rets_7030b, name = '70/30')\n",
    "], axis = 1)"
   ]
  },
  {
   "cell_type": "markdown",
   "metadata": {},
   "source": [
    "# Glide Paths for Allocation"
   ]
  },
  {
   "cell_type": "code",
   "execution_count": 8,
   "metadata": {},
   "outputs": [],
   "source": [
    "def glidepath_allocator(r1, r2, start_glide = 1, end_glide = 0):\n",
    "    \"\"\"\n",
    "    Simulates a TDF style move from r1 to r2\n",
    "    \"\"\"\n",
    "    n_points = r1.shape[0]\n",
    "    n_col = r1.shape[1]\n",
    "    path = pd.Series(data = np.linspace(start_glide, end_glide, num = n_points))\n",
    "    paths = pd.concat([path]*n_col, axis = 1)\n",
    "    paths.index = r1.index\n",
    "    paths.columns = r1.columns\n",
    "    return paths"
   ]
  },
  {
   "cell_type": "code",
   "execution_count": 9,
   "metadata": {},
   "outputs": [],
   "source": [
    "rets_g8020 = erk.bt_mix(rets_eq, rets_bonds, glidepath_allocator, start_glide = .8, end_glide = .2)"
   ]
  },
  {
   "cell_type": "code",
   "execution_count": 10,
   "metadata": {},
   "outputs": [
    {
     "data": {
      "text/html": [
       "<div>\n",
       "<style scoped>\n",
       "    .dataframe tbody tr th:only-of-type {\n",
       "        vertical-align: middle;\n",
       "    }\n",
       "\n",
       "    .dataframe tbody tr th {\n",
       "        vertical-align: top;\n",
       "    }\n",
       "\n",
       "    .dataframe thead th {\n",
       "        text-align: right;\n",
       "    }\n",
       "</style>\n",
       "<table border=\"1\" class=\"dataframe\">\n",
       "  <thead>\n",
       "    <tr style=\"text-align: right;\">\n",
       "      <th></th>\n",
       "      <th>FI</th>\n",
       "      <th>EQ</th>\n",
       "      <th>70/30</th>\n",
       "      <th>Glide 80/20</th>\n",
       "    </tr>\n",
       "  </thead>\n",
       "  <tbody>\n",
       "    <tr>\n",
       "      <th>mean</th>\n",
       "      <td>1.385976</td>\n",
       "      <td>1.965424</td>\n",
       "      <td>1.780055</td>\n",
       "      <td>1.663910</td>\n",
       "    </tr>\n",
       "    <tr>\n",
       "      <th>std</th>\n",
       "      <td>0.108114</td>\n",
       "      <td>0.992514</td>\n",
       "      <td>0.617410</td>\n",
       "      <td>0.438177</td>\n",
       "    </tr>\n",
       "    <tr>\n",
       "      <th>p_breach</th>\n",
       "      <td>NaN</td>\n",
       "      <td>0.036000</td>\n",
       "      <td>0.016000</td>\n",
       "      <td>0.006000</td>\n",
       "    </tr>\n",
       "    <tr>\n",
       "      <th>e_short</th>\n",
       "      <td>NaN</td>\n",
       "      <td>0.170497</td>\n",
       "      <td>0.073954</td>\n",
       "      <td>0.054025</td>\n",
       "    </tr>\n",
       "    <tr>\n",
       "      <th>p_reach</th>\n",
       "      <td>NaN</td>\n",
       "      <td>NaN</td>\n",
       "      <td>NaN</td>\n",
       "      <td>NaN</td>\n",
       "    </tr>\n",
       "    <tr>\n",
       "      <th>e_surplus</th>\n",
       "      <td>NaN</td>\n",
       "      <td>NaN</td>\n",
       "      <td>NaN</td>\n",
       "      <td>NaN</td>\n",
       "    </tr>\n",
       "  </tbody>\n",
       "</table>\n",
       "</div>"
      ],
      "text/plain": [
       "                 FI        EQ     70/30  Glide 80/20\n",
       "mean       1.385976  1.965424  1.780055     1.663910\n",
       "std        0.108114  0.992514  0.617410     0.438177\n",
       "p_breach        NaN  0.036000  0.016000     0.006000\n",
       "e_short         NaN  0.170497  0.073954     0.054025\n",
       "p_reach         NaN       NaN       NaN          NaN\n",
       "e_surplus       NaN       NaN       NaN          NaN"
      ]
     },
     "execution_count": 10,
     "metadata": {},
     "output_type": "execute_result"
    }
   ],
   "source": [
    "pd.concat([\n",
    "    erk.terminal_stats(rets_bonds, name = 'FI'),\n",
    "    erk.terminal_stats(rets_eq, name = 'EQ'),\n",
    "    erk.terminal_stats(rets_7030b, name = '70/30'),\n",
    "    erk.terminal_stats(rets_g8020, name = 'Glide 80/20')\n",
    "], axis = 1)"
   ]
  },
  {
   "cell_type": "code",
   "execution_count": null,
   "metadata": {},
   "outputs": [],
   "source": [
    "# the glide path doesn't really solve the problem"
   ]
  }
 ],
 "metadata": {
  "kernelspec": {
   "display_name": "IMSpecialization",
   "language": "python",
   "name": "imspecialization"
  },
  "language_info": {
   "codemirror_mode": {
    "name": "ipython",
    "version": 3
   },
   "file_extension": ".py",
   "mimetype": "text/x-python",
   "name": "python",
   "nbconvert_exporter": "python",
   "pygments_lexer": "ipython3",
   "version": "3.8.5"
  }
 },
 "nbformat": 4,
 "nbformat_minor": 4
}
