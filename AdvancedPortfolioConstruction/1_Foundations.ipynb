{
 "metadata": {
  "language_info": {
   "codemirror_mode": {
    "name": "ipython",
    "version": 3
   },
   "file_extension": ".py",
   "mimetype": "text/x-python",
   "name": "python",
   "nbconvert_exporter": "python",
   "pygments_lexer": "ipython3",
   "version": "3.8.5-final"
  },
  "orig_nbformat": 2,
  "kernelspec": {
   "name": "atbs",
   "display_name": "ATBS",
   "language": "python"
  }
 },
 "nbformat": 4,
 "nbformat_minor": 2,
 "cells": [
  {
   "source": [
    "## Let's decompose Berkshire Hathaway, and see what is driving the returns\n",
    "Corresponds to lab 201"
   ],
   "cell_type": "markdown",
   "metadata": {}
  },
  {
   "cell_type": "code",
   "execution_count": 1,
   "metadata": {},
   "outputs": [],
   "source": [
    "%load_ext autoreload\n",
    "%autoreload 2\n",
    "import pandas as pd\n",
    "import edhec_risk_kit_201 as erk\n",
    "import statsmodels.api as sm\n",
    "import numpy as np"
   ]
  },
  {
   "cell_type": "code",
   "execution_count": null,
   "metadata": {},
   "outputs": [],
   "source": []
  },
  {
   "cell_type": "code",
   "execution_count": 5,
   "metadata": {},
   "outputs": [
    {
     "output_type": "execute_result",
     "data": {
      "text/plain": [
       "                BRKA\n",
       "DATE                \n",
       "1990-01-02 -0.005764\n",
       "1990-01-03  0.000000\n",
       "1990-01-04  0.005797\n",
       "1990-01-05 -0.005764\n",
       "1990-01-08  0.000000"
      ],
      "text/html": "<div>\n<style scoped>\n    .dataframe tbody tr th:only-of-type {\n        vertical-align: middle;\n    }\n\n    .dataframe tbody tr th {\n        vertical-align: top;\n    }\n\n    .dataframe thead th {\n        text-align: right;\n    }\n</style>\n<table border=\"1\" class=\"dataframe\">\n  <thead>\n    <tr style=\"text-align: right;\">\n      <th></th>\n      <th>BRKA</th>\n    </tr>\n    <tr>\n      <th>DATE</th>\n      <th></th>\n    </tr>\n  </thead>\n  <tbody>\n    <tr>\n      <th>1990-01-02</th>\n      <td>-0.005764</td>\n    </tr>\n    <tr>\n      <th>1990-01-03</th>\n      <td>0.000000</td>\n    </tr>\n    <tr>\n      <th>1990-01-04</th>\n      <td>0.005797</td>\n    </tr>\n    <tr>\n      <th>1990-01-05</th>\n      <td>-0.005764</td>\n    </tr>\n    <tr>\n      <th>1990-01-08</th>\n      <td>0.000000</td>\n    </tr>\n  </tbody>\n</table>\n</div>"
     },
     "metadata": {},
     "execution_count": 5
    }
   ],
   "source": [
    "brka_d = pd.read_csv('data/brka_d_ret.csv', parse_dates = True, index_col = 0)\n",
    "brka_d.head()"
   ]
  },
  {
   "cell_type": "code",
   "execution_count": 7,
   "metadata": {},
   "outputs": [
    {
     "output_type": "execute_result",
     "data": {
      "text/plain": [
       "             BRKA\n",
       "DATE             \n",
       "1990-01 -0.140634\n",
       "1990-02 -0.030852\n",
       "1990-03 -0.069204\n",
       "1990-04 -0.003717\n",
       "1990-05  0.067164"
      ],
      "text/html": "<div>\n<style scoped>\n    .dataframe tbody tr th:only-of-type {\n        vertical-align: middle;\n    }\n\n    .dataframe tbody tr th {\n        vertical-align: top;\n    }\n\n    .dataframe thead th {\n        text-align: right;\n    }\n</style>\n<table border=\"1\" class=\"dataframe\">\n  <thead>\n    <tr style=\"text-align: right;\">\n      <th></th>\n      <th>BRKA</th>\n    </tr>\n    <tr>\n      <th>DATE</th>\n      <th></th>\n    </tr>\n  </thead>\n  <tbody>\n    <tr>\n      <th>1990-01</th>\n      <td>-0.140634</td>\n    </tr>\n    <tr>\n      <th>1990-02</th>\n      <td>-0.030852</td>\n    </tr>\n    <tr>\n      <th>1990-03</th>\n      <td>-0.069204</td>\n    </tr>\n    <tr>\n      <th>1990-04</th>\n      <td>-0.003717</td>\n    </tr>\n    <tr>\n      <th>1990-05</th>\n      <td>0.067164</td>\n    </tr>\n  </tbody>\n</table>\n</div>"
     },
     "metadata": {},
     "execution_count": 7
    }
   ],
   "source": [
    "#Take our daily data, and change it to monthly by compounding daily into monthly\n",
    "brka_m = brka_d.resample('M').apply(erk.compound).to_period('M')\n",
    "brka_m.head()"
   ]
  },
  {
   "cell_type": "code",
   "execution_count": 8,
   "metadata": {},
   "outputs": [
    {
     "output_type": "execute_result",
     "data": {
      "text/plain": [
       "         Mkt-RF     SMB     HML      RF\n",
       "1926-07  0.0296 -0.0230 -0.0287  0.0022\n",
       "1926-08  0.0264 -0.0140  0.0419  0.0025\n",
       "1926-09  0.0036 -0.0132  0.0001  0.0023\n",
       "1926-10 -0.0324  0.0004  0.0051  0.0032\n",
       "1926-11  0.0253 -0.0020 -0.0035  0.0031"
      ],
      "text/html": "<div>\n<style scoped>\n    .dataframe tbody tr th:only-of-type {\n        vertical-align: middle;\n    }\n\n    .dataframe tbody tr th {\n        vertical-align: top;\n    }\n\n    .dataframe thead th {\n        text-align: right;\n    }\n</style>\n<table border=\"1\" class=\"dataframe\">\n  <thead>\n    <tr style=\"text-align: right;\">\n      <th></th>\n      <th>Mkt-RF</th>\n      <th>SMB</th>\n      <th>HML</th>\n      <th>RF</th>\n    </tr>\n  </thead>\n  <tbody>\n    <tr>\n      <th>1926-07</th>\n      <td>0.0296</td>\n      <td>-0.0230</td>\n      <td>-0.0287</td>\n      <td>0.0022</td>\n    </tr>\n    <tr>\n      <th>1926-08</th>\n      <td>0.0264</td>\n      <td>-0.0140</td>\n      <td>0.0419</td>\n      <td>0.0025</td>\n    </tr>\n    <tr>\n      <th>1926-09</th>\n      <td>0.0036</td>\n      <td>-0.0132</td>\n      <td>0.0001</td>\n      <td>0.0023</td>\n    </tr>\n    <tr>\n      <th>1926-10</th>\n      <td>-0.0324</td>\n      <td>0.0004</td>\n      <td>0.0051</td>\n      <td>0.0032</td>\n    </tr>\n    <tr>\n      <th>1926-11</th>\n      <td>0.0253</td>\n      <td>-0.0020</td>\n      <td>-0.0035</td>\n      <td>0.0031</td>\n    </tr>\n  </tbody>\n</table>\n</div>"
     },
     "metadata": {},
     "execution_count": 8
    }
   ],
   "source": [
    "fff = erk.get_fff_returns()\n",
    "fff.head()\n",
    "#gives excess returns, and the two factor mimicking portfolios, and the risk free rate\n",
    "#SMB is small - big (long small short big), HML is high minus low (long value short growth)"
   ]
  },
  {
   "source": [
    "Next, we need to decompose the observed BRKA 1990-May 2012 as in Ang(2014) into the portion that's due to the market and the rest that is not due to the market, using the CAPM as the explanatory model.\n",
    "\n",
    "i.e.\n",
    "\n",
    "$$ R_{brka,t} - R_{f,t} = \\alpha + \\beta(R_{mkt,t} - R_{f,t}) + \\epsilon_t $$\n",
    "\n",
    "We can use the `stats.api` for the linear regression as follows:"
   ],
   "cell_type": "markdown",
   "metadata": {}
  },
  {
   "cell_type": "code",
   "execution_count": 12,
   "metadata": {},
   "outputs": [],
   "source": [
    "brka_excess = brka_m[\"1990\":\"2012-05\"] - fff.loc[\"1990\":\"2012-05\", ['RF']].values\n",
    "mkt_excess = fff.loc[\"1990\":\"2012-05\",['Mkt-RF']]\n",
    "exp_var = mkt_excess.copy()\n",
    "exp_var[\"Constant\"] = 1\n",
    "lm = sm.OLS(brka_excess, exp_var).fit()"
   ]
  },
  {
   "cell_type": "code",
   "execution_count": 13,
   "metadata": {},
   "outputs": [
    {
     "output_type": "execute_result",
     "data": {
      "text/plain": [
       "<class 'statsmodels.iolib.summary.Summary'>\n",
       "\"\"\"\n",
       "                            OLS Regression Results                            \n",
       "==============================================================================\n",
       "Dep. Variable:                   BRKA   R-squared:                       0.154\n",
       "Model:                            OLS   Adj. R-squared:                  0.150\n",
       "Method:                 Least Squares   F-statistic:                     48.45\n",
       "Date:                Tue, 26 Jan 2021   Prob (F-statistic):           2.62e-11\n",
       "Time:                        09:08:40   Log-Likelihood:                 388.47\n",
       "No. Observations:                 269   AIC:                            -772.9\n",
       "Df Residuals:                     267   BIC:                            -765.7\n",
       "Df Model:                           1                                         \n",
       "Covariance Type:            nonrobust                                         \n",
       "==============================================================================\n",
       "                 coef    std err          t      P>|t|      [0.025      0.975]\n",
       "------------------------------------------------------------------------------\n",
       "Mkt-RF         0.5402      0.078      6.961      0.000       0.387       0.693\n",
       "Constant       0.0061      0.004      1.744      0.082      -0.001       0.013\n",
       "==============================================================================\n",
       "Omnibus:                       45.698   Durbin-Watson:                   2.079\n",
       "Prob(Omnibus):                  0.000   Jarque-Bera (JB):              102.573\n",
       "Skew:                           0.825   Prob(JB):                     5.33e-23\n",
       "Kurtosis:                       5.535   Cond. No.                         22.2\n",
       "==============================================================================\n",
       "\n",
       "Notes:\n",
       "[1] Standard Errors assume that the covariance matrix of the errors is correctly specified.\n",
       "\"\"\""
      ],
      "text/html": "<table class=\"simpletable\">\n<caption>OLS Regression Results</caption>\n<tr>\n  <th>Dep. Variable:</th>          <td>BRKA</td>       <th>  R-squared:         </th> <td>   0.154</td>\n</tr>\n<tr>\n  <th>Model:</th>                   <td>OLS</td>       <th>  Adj. R-squared:    </th> <td>   0.150</td>\n</tr>\n<tr>\n  <th>Method:</th>             <td>Least Squares</td>  <th>  F-statistic:       </th> <td>   48.45</td>\n</tr>\n<tr>\n  <th>Date:</th>             <td>Tue, 26 Jan 2021</td> <th>  Prob (F-statistic):</th> <td>2.62e-11</td>\n</tr>\n<tr>\n  <th>Time:</th>                 <td>09:08:40</td>     <th>  Log-Likelihood:    </th> <td>  388.47</td>\n</tr>\n<tr>\n  <th>No. Observations:</th>      <td>   269</td>      <th>  AIC:               </th> <td>  -772.9</td>\n</tr>\n<tr>\n  <th>Df Residuals:</th>          <td>   267</td>      <th>  BIC:               </th> <td>  -765.7</td>\n</tr>\n<tr>\n  <th>Df Model:</th>              <td>     1</td>      <th>                     </th>     <td> </td>   \n</tr>\n<tr>\n  <th>Covariance Type:</th>      <td>nonrobust</td>    <th>                     </th>     <td> </td>   \n</tr>\n</table>\n<table class=\"simpletable\">\n<tr>\n      <td></td>        <th>coef</th>     <th>std err</th>      <th>t</th>      <th>P>|t|</th>  <th>[0.025</th>    <th>0.975]</th>  \n</tr>\n<tr>\n  <th>Mkt-RF</th>   <td>    0.5402</td> <td>    0.078</td> <td>    6.961</td> <td> 0.000</td> <td>    0.387</td> <td>    0.693</td>\n</tr>\n<tr>\n  <th>Constant</th> <td>    0.0061</td> <td>    0.004</td> <td>    1.744</td> <td> 0.082</td> <td>   -0.001</td> <td>    0.013</td>\n</tr>\n</table>\n<table class=\"simpletable\">\n<tr>\n  <th>Omnibus:</th>       <td>45.698</td> <th>  Durbin-Watson:     </th> <td>   2.079</td>\n</tr>\n<tr>\n  <th>Prob(Omnibus):</th> <td> 0.000</td> <th>  Jarque-Bera (JB):  </th> <td> 102.573</td>\n</tr>\n<tr>\n  <th>Skew:</th>          <td> 0.825</td> <th>  Prob(JB):          </th> <td>5.33e-23</td>\n</tr>\n<tr>\n  <th>Kurtosis:</th>      <td> 5.535</td> <th>  Cond. No.          </th> <td>    22.2</td>\n</tr>\n</table><br/><br/>Notes:<br/>[1] Standard Errors assume that the covariance matrix of the errors is correctly specified."
     },
     "metadata": {},
     "execution_count": 13
    }
   ],
   "source": [
    "lm.summary()"
   ]
  },
  {
   "source": [
    "## CAPM benchmark interpretation\n",
    "This summary says that the CAPM benchmark consists of 46 cents in T-bills (risk free) and 54 dcents in the market. \n",
    "    AKA: each dollar in Berkshire hathway is equivalent to 46 cents in T-Bills and 54 cents in the market.\n",
    "    RELATIVE to this, the Berkshire fund is adding .61% (per month) of alpha. (although degree of significance is not super high)"
   ],
   "cell_type": "markdown",
   "metadata": {}
  },
  {
   "cell_type": "code",
   "execution_count": 15,
   "metadata": {},
   "outputs": [
    {
     "output_type": "execute_result",
     "data": {
      "text/plain": [
       "         Mkt-RF  Constant   Value    Size\n",
       "1990-01 -0.0785         1  0.0087 -0.0129\n",
       "1990-02  0.0111         1  0.0061  0.0103\n",
       "1990-03  0.0183         1 -0.0290  0.0152\n",
       "1990-04 -0.0336         1 -0.0255 -0.0050\n",
       "1990-05  0.0842         1 -0.0374 -0.0257"
      ],
      "text/html": "<div>\n<style scoped>\n    .dataframe tbody tr th:only-of-type {\n        vertical-align: middle;\n    }\n\n    .dataframe tbody tr th {\n        vertical-align: top;\n    }\n\n    .dataframe thead th {\n        text-align: right;\n    }\n</style>\n<table border=\"1\" class=\"dataframe\">\n  <thead>\n    <tr style=\"text-align: right;\">\n      <th></th>\n      <th>Mkt-RF</th>\n      <th>Constant</th>\n      <th>Value</th>\n      <th>Size</th>\n    </tr>\n  </thead>\n  <tbody>\n    <tr>\n      <th>1990-01</th>\n      <td>-0.0785</td>\n      <td>1</td>\n      <td>0.0087</td>\n      <td>-0.0129</td>\n    </tr>\n    <tr>\n      <th>1990-02</th>\n      <td>0.0111</td>\n      <td>1</td>\n      <td>0.0061</td>\n      <td>0.0103</td>\n    </tr>\n    <tr>\n      <th>1990-03</th>\n      <td>0.0183</td>\n      <td>1</td>\n      <td>-0.0290</td>\n      <td>0.0152</td>\n    </tr>\n    <tr>\n      <th>1990-04</th>\n      <td>-0.0336</td>\n      <td>1</td>\n      <td>-0.0255</td>\n      <td>-0.0050</td>\n    </tr>\n    <tr>\n      <th>1990-05</th>\n      <td>0.0842</td>\n      <td>1</td>\n      <td>-0.0374</td>\n      <td>-0.0257</td>\n    </tr>\n  </tbody>\n</table>\n</div>"
     },
     "metadata": {},
     "execution_count": 15
    }
   ],
   "source": [
    "exp_var[\"Value\"] = fff.loc[\"1990\":\"2012-05\",['HML']]\n",
    "exp_var[\"Size\"] = fff.loc[\"1990\":\"2012-05\",['SMB']]\n",
    "exp_var.head()"
   ]
  },
  {
   "cell_type": "code",
   "execution_count": 16,
   "metadata": {},
   "outputs": [
    {
     "output_type": "execute_result",
     "data": {
      "text/plain": [
       "<class 'statsmodels.iolib.summary.Summary'>\n",
       "\"\"\"\n",
       "                            OLS Regression Results                            \n",
       "==============================================================================\n",
       "Dep. Variable:                   BRKA   R-squared:                       0.290\n",
       "Model:                            OLS   Adj. R-squared:                  0.282\n",
       "Method:                 Least Squares   F-statistic:                     36.06\n",
       "Date:                Tue, 26 Jan 2021   Prob (F-statistic):           1.41e-19\n",
       "Time:                        09:13:45   Log-Likelihood:                 412.09\n",
       "No. Observations:                 269   AIC:                            -816.2\n",
       "Df Residuals:                     265   BIC:                            -801.8\n",
       "Df Model:                           3                                         \n",
       "Covariance Type:            nonrobust                                         \n",
       "==============================================================================\n",
       "                 coef    std err          t      P>|t|      [0.025      0.975]\n",
       "------------------------------------------------------------------------------\n",
       "Mkt-RF         0.6761      0.074      9.155      0.000       0.531       0.821\n",
       "Constant       0.0055      0.003      1.679      0.094      -0.001       0.012\n",
       "Value          0.3814      0.109      3.508      0.001       0.167       0.595\n",
       "Size          -0.5023      0.101     -4.962      0.000      -0.702      -0.303\n",
       "==============================================================================\n",
       "Omnibus:                       42.261   Durbin-Watson:                   2.146\n",
       "Prob(Omnibus):                  0.000   Jarque-Bera (JB):               67.954\n",
       "Skew:                           0.904   Prob(JB):                     1.75e-15\n",
       "Kurtosis:                       4.671   Cond. No.                         37.2\n",
       "==============================================================================\n",
       "\n",
       "Notes:\n",
       "[1] Standard Errors assume that the covariance matrix of the errors is correctly specified.\n",
       "\"\"\""
      ],
      "text/html": "<table class=\"simpletable\">\n<caption>OLS Regression Results</caption>\n<tr>\n  <th>Dep. Variable:</th>          <td>BRKA</td>       <th>  R-squared:         </th> <td>   0.290</td>\n</tr>\n<tr>\n  <th>Model:</th>                   <td>OLS</td>       <th>  Adj. R-squared:    </th> <td>   0.282</td>\n</tr>\n<tr>\n  <th>Method:</th>             <td>Least Squares</td>  <th>  F-statistic:       </th> <td>   36.06</td>\n</tr>\n<tr>\n  <th>Date:</th>             <td>Tue, 26 Jan 2021</td> <th>  Prob (F-statistic):</th> <td>1.41e-19</td>\n</tr>\n<tr>\n  <th>Time:</th>                 <td>09:13:45</td>     <th>  Log-Likelihood:    </th> <td>  412.09</td>\n</tr>\n<tr>\n  <th>No. Observations:</th>      <td>   269</td>      <th>  AIC:               </th> <td>  -816.2</td>\n</tr>\n<tr>\n  <th>Df Residuals:</th>          <td>   265</td>      <th>  BIC:               </th> <td>  -801.8</td>\n</tr>\n<tr>\n  <th>Df Model:</th>              <td>     3</td>      <th>                     </th>     <td> </td>   \n</tr>\n<tr>\n  <th>Covariance Type:</th>      <td>nonrobust</td>    <th>                     </th>     <td> </td>   \n</tr>\n</table>\n<table class=\"simpletable\">\n<tr>\n      <td></td>        <th>coef</th>     <th>std err</th>      <th>t</th>      <th>P>|t|</th>  <th>[0.025</th>    <th>0.975]</th>  \n</tr>\n<tr>\n  <th>Mkt-RF</th>   <td>    0.6761</td> <td>    0.074</td> <td>    9.155</td> <td> 0.000</td> <td>    0.531</td> <td>    0.821</td>\n</tr>\n<tr>\n  <th>Constant</th> <td>    0.0055</td> <td>    0.003</td> <td>    1.679</td> <td> 0.094</td> <td>   -0.001</td> <td>    0.012</td>\n</tr>\n<tr>\n  <th>Value</th>    <td>    0.3814</td> <td>    0.109</td> <td>    3.508</td> <td> 0.001</td> <td>    0.167</td> <td>    0.595</td>\n</tr>\n<tr>\n  <th>Size</th>     <td>   -0.5023</td> <td>    0.101</td> <td>   -4.962</td> <td> 0.000</td> <td>   -0.702</td> <td>   -0.303</td>\n</tr>\n</table>\n<table class=\"simpletable\">\n<tr>\n  <th>Omnibus:</th>       <td>42.261</td> <th>  Durbin-Watson:     </th> <td>   2.146</td>\n</tr>\n<tr>\n  <th>Prob(Omnibus):</th> <td> 0.000</td> <th>  Jarque-Bera (JB):  </th> <td>  67.954</td>\n</tr>\n<tr>\n  <th>Skew:</th>          <td> 0.904</td> <th>  Prob(JB):          </th> <td>1.75e-15</td>\n</tr>\n<tr>\n  <th>Kurtosis:</th>      <td> 4.671</td> <th>  Cond. No.          </th> <td>    37.2</td>\n</tr>\n</table><br/><br/>Notes:<br/>[1] Standard Errors assume that the covariance matrix of the errors is correctly specified."
     },
     "metadata": {},
     "execution_count": 16
    }
   ],
   "source": [
    "lm = sm.OLS(brka_excess, exp_var).fit()\n",
    "lm.summary()"
   ]
  },
  {
   "source": [
    "These coefficients imply that Berkshire has a significant Value tilt, and a NEGATIVE tilt on size (indicating that they tend to invest in large companies)\n",
    "\n",
    "So the new answer to the question \"If I give $100 to Berkshire Hathway, where is the money going?\"\n",
    "\n",
    "    $67 into the market, $33 into bills\n",
    "    $38 in Value stocks and SHORT $38 in Growth stocks\n",
    "    Short $50 in small cap stocks and $50 in large cap stocks\n",
    "But if you did this same exact thing, you'd end up underperforming by about 55 basis points per month"
   ],
   "cell_type": "markdown",
   "metadata": {}
  },
  {
   "source": [
    "# Exercises"
   ],
   "cell_type": "markdown",
   "metadata": {}
  },
  {
   "cell_type": "code",
   "execution_count": 17,
   "metadata": {},
   "outputs": [
    {
     "output_type": "execute_result",
     "data": {
      "text/plain": [
       "Mkt-RF    0.540175\n",
       "Alpha     0.006133\n",
       "dtype: float64"
      ]
     },
     "metadata": {},
     "execution_count": 17
    }
   ],
   "source": [
    "results = erk.regress(brka_excess, mkt_excess)\n",
    "results.params"
   ]
  },
  {
   "cell_type": "code",
   "execution_count": 29,
   "metadata": {},
   "outputs": [],
   "source": [
    "brka_excess = brka_m[\"2012\":] - fff.loc['2012':, ['RF']].values\n",
    "mkt_excess = fff.loc['2012':][['Mkt-RF', 'HML', 'SMB']]"
   ]
  },
  {
   "cell_type": "code",
   "execution_count": 35,
   "metadata": {},
   "outputs": [],
   "source": [
    "new_results = erk.regress(brka_excess, mkt_excess)"
   ]
  },
  {
   "cell_type": "code",
   "execution_count": null,
   "metadata": {},
   "outputs": [],
   "source": []
  },
  {
   "cell_type": "code",
   "execution_count": 38,
   "metadata": {},
   "outputs": [
    {
     "output_type": "execute_result",
     "data": {
      "text/plain": [
       "Mkt-RF    0.867331\n",
       "HML       0.448694\n",
       "SMB      -0.365786\n",
       "Alpha     0.003217\n",
       "dtype: float64"
      ]
     },
     "metadata": {},
     "execution_count": 38
    }
   ],
   "source": [
    "new_results.params"
   ]
  }
 ]
}