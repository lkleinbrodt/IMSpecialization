{
 "metadata": {
  "language_info": {
   "codemirror_mode": {
    "name": "ipython",
    "version": 3
   },
   "file_extension": ".py",
   "mimetype": "text/x-python",
   "name": "python",
   "nbconvert_exporter": "python",
   "pygments_lexer": "ipython3",
   "version": "3.8.5-final"
  },
  "orig_nbformat": 2,
  "kernelspec": {
   "name": "imspecialization",
   "display_name": "IMSpecialization",
   "language": "python"
  }
 },
 "nbformat": 4,
 "nbformat_minor": 2,
 "cells": [
  {
   "cell_type": "code",
   "execution_count": 1,
   "metadata": {},
   "outputs": [],
   "source": [
    "import numpy as np\n",
    "import pandas as pd\n",
    "\n",
    "import edhec_risk_kit_206 as erk\n",
    "\n",
    "%load_ext autoreload\n",
    "%autoreload 2\n",
    "\n",
    "my_inds = ['Hlth', 'Fin', 'Whlsl', 'Rtail', 'Food']\n",
    "\n",
    "ind_rets = erk.get_ind_returns(weighting='vw')[\"2013\":][my_inds]\n",
    "ind_mcap = erk.get_ind_market_caps(weights=True)[\"2013\":][my_inds]"
   ]
  },
  {
   "cell_type": "code",
   "execution_count": 2,
   "metadata": {},
   "outputs": [
    {
     "output_type": "execute_result",
     "data": {
      "text/plain": [
       "             Hlth       Fin     Whlsl     Rtail      Food\n",
       "2013-01  0.093193  0.144131  0.012207  0.068470  0.032168\n",
       "2013-02  0.095323  0.144987  0.012226  0.068400  0.032147\n",
       "2013-03  0.095347  0.144808  0.012332  0.068019  0.032994\n",
       "2013-04  0.097713  0.145560  0.012210  0.068507  0.033767\n",
       "2013-05  0.098455  0.145732  0.012057  0.069722  0.034233\n",
       "...           ...       ...       ...       ...       ...\n",
       "2018-08  0.103549  0.164637  0.010987  0.076225  0.021873\n",
       "2018-09  0.104324  0.162556  0.010992  0.080234  0.021005\n",
       "2018-10  0.106363  0.159464  0.010681  0.080886  0.020661\n",
       "2018-11  0.105080  0.161024  0.010674  0.078849  0.022649\n",
       "2018-12  0.109930  0.163053  0.010849  0.077102  0.022832\n",
       "\n",
       "[72 rows x 5 columns]"
      ],
      "text/html": "<div>\n<style scoped>\n    .dataframe tbody tr th:only-of-type {\n        vertical-align: middle;\n    }\n\n    .dataframe tbody tr th {\n        vertical-align: top;\n    }\n\n    .dataframe thead th {\n        text-align: right;\n    }\n</style>\n<table border=\"1\" class=\"dataframe\">\n  <thead>\n    <tr style=\"text-align: right;\">\n      <th></th>\n      <th>Hlth</th>\n      <th>Fin</th>\n      <th>Whlsl</th>\n      <th>Rtail</th>\n      <th>Food</th>\n    </tr>\n  </thead>\n  <tbody>\n    <tr>\n      <th>2013-01</th>\n      <td>0.093193</td>\n      <td>0.144131</td>\n      <td>0.012207</td>\n      <td>0.068470</td>\n      <td>0.032168</td>\n    </tr>\n    <tr>\n      <th>2013-02</th>\n      <td>0.095323</td>\n      <td>0.144987</td>\n      <td>0.012226</td>\n      <td>0.068400</td>\n      <td>0.032147</td>\n    </tr>\n    <tr>\n      <th>2013-03</th>\n      <td>0.095347</td>\n      <td>0.144808</td>\n      <td>0.012332</td>\n      <td>0.068019</td>\n      <td>0.032994</td>\n    </tr>\n    <tr>\n      <th>2013-04</th>\n      <td>0.097713</td>\n      <td>0.145560</td>\n      <td>0.012210</td>\n      <td>0.068507</td>\n      <td>0.033767</td>\n    </tr>\n    <tr>\n      <th>2013-05</th>\n      <td>0.098455</td>\n      <td>0.145732</td>\n      <td>0.012057</td>\n      <td>0.069722</td>\n      <td>0.034233</td>\n    </tr>\n    <tr>\n      <th>...</th>\n      <td>...</td>\n      <td>...</td>\n      <td>...</td>\n      <td>...</td>\n      <td>...</td>\n    </tr>\n    <tr>\n      <th>2018-08</th>\n      <td>0.103549</td>\n      <td>0.164637</td>\n      <td>0.010987</td>\n      <td>0.076225</td>\n      <td>0.021873</td>\n    </tr>\n    <tr>\n      <th>2018-09</th>\n      <td>0.104324</td>\n      <td>0.162556</td>\n      <td>0.010992</td>\n      <td>0.080234</td>\n      <td>0.021005</td>\n    </tr>\n    <tr>\n      <th>2018-10</th>\n      <td>0.106363</td>\n      <td>0.159464</td>\n      <td>0.010681</td>\n      <td>0.080886</td>\n      <td>0.020661</td>\n    </tr>\n    <tr>\n      <th>2018-11</th>\n      <td>0.105080</td>\n      <td>0.161024</td>\n      <td>0.010674</td>\n      <td>0.078849</td>\n      <td>0.022649</td>\n    </tr>\n    <tr>\n      <th>2018-12</th>\n      <td>0.109930</td>\n      <td>0.163053</td>\n      <td>0.010849</td>\n      <td>0.077102</td>\n      <td>0.022832</td>\n    </tr>\n  </tbody>\n</table>\n<p>72 rows × 5 columns</p>\n</div>"
     },
     "metadata": {},
     "execution_count": 2
    }
   ],
   "source": [
    "ind_mcap"
   ]
  },
  {
   "cell_type": "code",
   "execution_count": 19,
   "metadata": {},
   "outputs": [
    {
     "output_type": "execute_result",
     "data": {
      "text/plain": [
       "Hlth     0.176459\n",
       "Fin      0.181962\n",
       "Whlsl    0.174545\n",
       "Rtail    0.171476\n",
       "Food     0.128461\n",
       "Name: Implied Returns, dtype: float64"
      ]
     },
     "metadata": {},
     "execution_count": 19
    }
   ],
   "source": [
    "### THIS IS WRONG, but wil give right quiz answers. ????\n",
    "\n",
    "ind5_rets = ind_rets\n",
    "ind5_mcap = ind_mcap\n",
    "cw=erk.weight_cw(ind5_rets,ind5_mcap)\n",
    "cw = cw / cw.sum()\n",
    "\n",
    "rho =ind5_rets.corr()\n",
    "\n",
    "vols = ind5_rets.std()*np.sqrt(12)\n",
    "\n",
    "sigma_prior = vols.dot(vols.T) * rho\n",
    "\n",
    "pi = erk.implied_returns(delta=2.5, sigma=sigma_prior, w=cw)\n",
    "\n",
    "volsM = pd.DataFrame(ind_rets.std(),index=['Hlth', 'Fin', 'Whlsl', 'Rtail', 'Food'], columns=[\"vol\"]) \n",
    "vols = volsM*np.sqrt(12)\n",
    "rho = ind_rets.corr()\n",
    "VOL = vols['vol']\n",
    "sigma_prior_ =VOL.dot(VOL.T) * rho\n",
    "erk.implied_returns(delta=2.5, sigma=sigma_prior, w=cw)"
   ]
  },
  {
   "cell_type": "code",
   "execution_count": 8,
   "metadata": {},
   "outputs": [
    {
     "output_type": "execute_result",
     "data": {
      "text/plain": [
       "   Hlth  Fin     Whlsl     Rtail  Food\n",
       "0   1.0  0.0 -0.151306 -0.848694   0.0"
      ],
      "text/html": "<div>\n<style scoped>\n    .dataframe tbody tr th:only-of-type {\n        vertical-align: middle;\n    }\n\n    .dataframe tbody tr th {\n        vertical-align: top;\n    }\n\n    .dataframe thead th {\n        text-align: right;\n    }\n</style>\n<table border=\"1\" class=\"dataframe\">\n  <thead>\n    <tr style=\"text-align: right;\">\n      <th></th>\n      <th>Hlth</th>\n      <th>Fin</th>\n      <th>Whlsl</th>\n      <th>Rtail</th>\n      <th>Food</th>\n    </tr>\n  </thead>\n  <tbody>\n    <tr>\n      <th>0</th>\n      <td>1.0</td>\n      <td>0.0</td>\n      <td>-0.151306</td>\n      <td>-0.848694</td>\n      <td>0.0</td>\n    </tr>\n  </tbody>\n</table>\n</div>"
     },
     "metadata": {},
     "execution_count": 8
    }
   ],
   "source": [
    "w_eq = ind_mcap.iloc[0]\n",
    "w_eq = w_eq / w_eq.sum()\n",
    "# Germany will outperform other European Equities (i.e. FR and UK) by 5%\n",
    "# Heatlh will outperform retail and wholesale by 3%\n",
    "q = pd.Series([.03]) # just one view\n",
    "# start with a single view, all zeros and overwrite the specific view\n",
    "p = pd.DataFrame([0.]*5, index=w_eq.index).T\n",
    "# find the relative market caps of FR and UK to split the\n",
    "# relative outperformance of DE ...\n",
    "w_ret = w_eq.loc['Rtail'] / (w_eq.loc['Rtail'] + w_eq.loc['Whlsl'])\n",
    "w_whl = w_eq.loc['Whlsl'] / (w_eq.loc['Rtail'] + w_eq.loc['Whlsl'])\n",
    "p.iloc[0]['Hlth'] = 1.\n",
    "p.iloc[0]['Rtail'] = -w_ret\n",
    "p.iloc[0]['Whlsl'] = -w_whl\n",
    "p\n",
    "#(p*100).round(1)\n"
   ]
  },
  {
   "cell_type": "code",
   "execution_count": 9,
   "metadata": {},
   "outputs": [
    {
     "output_type": "execute_result",
     "data": {
      "text/plain": [
       "Hlth     0.183539\n",
       "Fin      0.182029\n",
       "Whlsl    0.174092\n",
       "Rtail    0.165093\n",
       "Food     0.126385\n",
       "dtype: float64"
      ]
     },
     "metadata": {},
     "execution_count": 9
    }
   ],
   "source": [
    "delta = 2.5\n",
    "tau = 0.05 # from Footnote 8\n",
    "# Find the Black Litterman Expected Returns\n",
    "bl_mu, bl_sigma = erk.bl(w_eq, sigma_prior, p, q, tau = tau)\n",
    "(bl_mu*100).round(1)\n",
    "bl_mu"
   ]
  },
  {
   "cell_type": "code",
   "execution_count": 10,
   "metadata": {},
   "outputs": [
    {
     "output_type": "execute_result",
     "data": {
      "text/plain": [
       "Hlth     0.371167\n",
       "Fin      0.392005\n",
       "Whlsl    0.015391\n",
       "Rtail    0.086329\n",
       "Food     0.087490\n",
       "dtype: float64"
      ]
     },
     "metadata": {},
     "execution_count": 10
    }
   ],
   "source": [
    "wstar = erk.w_star(delta=2.5, sigma=bl_sigma, mu=bl_mu)\n",
    "wstar"
   ]
  },
  {
   "cell_type": "code",
   "execution_count": null,
   "metadata": {},
   "outputs": [],
   "source": []
  }
 ]
}